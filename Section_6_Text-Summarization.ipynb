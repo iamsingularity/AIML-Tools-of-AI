{
 "cells": [
  {
   "cell_type": "markdown",
   "id": "d8eebfff-1d14-42eb-ad24-a3a91900b674",
   "metadata": {},
   "source": [
    "Text Summarization Example"
   ]
  },
  {
   "cell_type": "code",
   "execution_count": 1,
   "id": "95bd1faf-a23a-4425-bdb3-9f0d74dae881",
   "metadata": {},
   "outputs": [
    {
     "name": "stderr",
     "output_type": "stream",
     "text": [
      "2024-04-28 21:26:51.699570: I tensorflow/core/platform/cpu_feature_guard.cc:182] This TensorFlow binary is optimized to use available CPU instructions in performance-critical operations.\n",
      "To enable the following instructions: AVX2 AVX512F AVX512_VNNI FMA, in other operations, rebuild TensorFlow with the appropriate compiler flags.\n",
      "No model was supplied, defaulted to sshleifer/distilbart-cnn-12-6 and revision a4f8f3e (https://huggingface.co/sshleifer/distilbart-cnn-12-6).\n",
      "Using a pipeline without specifying a model name and revision in production is not recommended.\n",
      "/Users/robbarto/Library/Python/3.9/lib/python/site-packages/torch/_utils.py:776: UserWarning: TypedStorage is deprecated. It will be removed in the future and UntypedStorage will be the only storage class. This should only matter to you if you are using storages directly.  To access UntypedStorage directly, use tensor.untyped_storage() instead of tensor.storage()\n",
      "  return self.fget.__get__(instance, owner)()\n",
      "Your max_length is set to 150, but your input_length is only 147. Since this is a summarization task, where outputs shorter than the input are typically wanted, you might consider decreasing max_length manually, e.g. summarizer('...', max_length=73)\n"
     ]
    },
    {
     "name": "stdout",
     "output_type": "stream",
     "text": [
      " The findings underscore the reversed dynamic that the president must deal with as he seeks a second term . Four years ago, Biden was able to assail Trump’s time in office from his position as a challenger . Now, however, Trump is able to exploit Biden's travails in office . The former president paints a picture of a failing nation during breaks from his trial in Manhattan .\n"
     ]
    }
   ],
   "source": [
    "from transformers import pipeline\n",
    "\n",
    "# Load the summarization pipeline\n",
    "summarization_pipeline = pipeline(\"summarization\")\n",
    "\n",
    "# Sample article for summarization\n",
    "article = \"\"\"The findings underscored the reversed dynamic that the president must deal with as he seeks a second term. Four years ago, he was able to assail Trump’s time in office from his position as a challenger. Biden vowed the country would “overcome this season of darkness” and choose “hope over fear, facts over fiction, fairness over privilege.” Now, however, Trump is able to exploit Biden’s travails in office as he seeks to make the election a classic referendum on the incumbent despite his own liabilities. The former president paints a picture of a failing nation, adrift in a world spinning into disorder, almost every day during breaks from his trial in Manhattan.\n",
    "\"\"\"\n",
    "\n",
    "# Perform summarization\n",
    "summary = summarization_pipeline(article, max_length=250, min_length=30, do_sample=False)\n",
    "\n",
    "# Print the summary\n",
    "print(summary[0]['summary_text'])"
   ]
  },
  {
   "cell_type": "code",
   "execution_count": null,
   "id": "d7d849b7-6734-4f55-9019-32b2d8d2f573",
   "metadata": {},
   "outputs": [],
   "source": []
  }
 ],
 "metadata": {
  "kernelspec": {
   "display_name": "Python 3 (ipykernel)",
   "language": "python",
   "name": "python3"
  },
  "language_info": {
   "codemirror_mode": {
    "name": "ipython",
    "version": 3
   },
   "file_extension": ".py",
   "mimetype": "text/x-python",
   "name": "python",
   "nbconvert_exporter": "python",
   "pygments_lexer": "ipython3",
   "version": "3.9.6"
  }
 },
 "nbformat": 4,
 "nbformat_minor": 5
}

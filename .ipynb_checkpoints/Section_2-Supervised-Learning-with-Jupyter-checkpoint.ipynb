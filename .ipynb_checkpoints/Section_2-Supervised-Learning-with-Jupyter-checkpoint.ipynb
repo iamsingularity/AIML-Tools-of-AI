{
 "cells": [
  {
   "cell_type": "markdown",
   "id": "cc3ded8e-3910-411f-ba89-676b056a2c96",
   "metadata": {},
   "source": [
    "# Imort Necessary Libraries"
   ]
  },
  {
   "cell_type": "code",
   "execution_count": null,
   "id": "b759cf82-5135-4b53-8f4d-df7c819ab1d9",
   "metadata": {},
   "outputs": [],
   "source": [
    "import torch\n",
    "import torch.nn as nn\n",
    "import torch.optim as optim\n",
    "import numpy as np\n",
    "import matplotlib.pyplot as plt"
   ]
  },
  {
   "cell_type": "markdown",
   "id": "3ff2f27b-ea29-4ab7-bcdc-37e8138714d5",
   "metadata": {},
   "source": [
    "# Generate Synthetic Data"
   ]
  },
  {
   "cell_type": "code",
   "execution_count": null,
   "id": "ddd7d3d8-53a1-4a11-9a11-90c76daa3bb3",
   "metadata": {},
   "outputs": [],
   "source": [
    "np.random.seed(42)\n",
    "num_samples = 100\n",
    "true_slope = 2.5\n",
    "true_intercept = 8.0\n",
    "x_data = np.random.rand(num_samples, 1) * 3\n",
    "y_data = true_slope * x_data + true_intercept + np.random.randn(num_samples, 1)\n",
    "\n",
    "# Convert data to PyTorch tensors\n",
    "x_tensor = torch.tensor(x_data, dtype=torch.float32)\n",
    "y_tensor = torch.tensor(y_data, dtype=torch.float32)"
   ]
  },
  {
   "cell_type": "markdown",
   "id": "f6df32e2-4f75-4c67-95f4-1cc667d9b157",
   "metadata": {},
   "source": [
    "# Show the synthetic data"
   ]
  },
  {
   "cell_type": "code",
   "execution_count": null,
   "id": "c5b64da5-c93c-4141-9cc9-896bfc738a1d",
   "metadata": {
    "scrolled": true
   },
   "outputs": [],
   "source": [
    "plt.scatter(x_data, y_data, label='Original Data')\n",
    "plt.xlabel('X')\n",
    "plt.ylabel('Y')\n",
    "plt.title('Training Data')\n",
    "plt.legend()\n",
    "plt.show()"
   ]
  },
  {
   "cell_type": "markdown",
   "id": "2ff955ac-2f73-41f4-8f97-f081e4d3dfc3",
   "metadata": {},
   "source": [
    "# Define the linear regression model"
   ]
  },
  {
   "cell_type": "code",
   "execution_count": null,
   "id": "c6272b93-f7c0-4369-934b-c16364250788",
   "metadata": {},
   "outputs": [],
   "source": [
    "class LinearRegressionModel(nn.Module):\n",
    "    def __init__(self):\n",
    "        super(LinearRegressionModel, self).__init__()\n",
    "        self.linear = nn.Linear(1, 1)  # One input feature, one output\n",
    "\n",
    "    def forward(self, x):\n",
    "        return self.linear(x)"
   ]
  },
  {
   "cell_type": "markdown",
   "id": "161f66a5-c4c8-4b73-b9c4-2e1d9531307d",
   "metadata": {},
   "source": [
    "# Instantiate the model"
   ]
  },
  {
   "cell_type": "code",
   "execution_count": null,
   "id": "26c0fe62-4c91-4a5b-aaa3-5becd354a03e",
   "metadata": {},
   "outputs": [],
   "source": [
    "model = LinearRegressionModel()"
   ]
  },
  {
   "cell_type": "markdown",
   "id": "f9c3b093-86d4-421d-8f1b-cef1752f0ca5",
   "metadata": {},
   "source": [
    "# Define loss function and optimizer"
   ]
  },
  {
   "cell_type": "code",
   "execution_count": null,
   "id": "9bdf8659-a9bf-4128-a661-36d70d9505a1",
   "metadata": {},
   "outputs": [],
   "source": [
    "criterion = nn.MSELoss()\n",
    "optimizer = optim.SGD(model.parameters(), lr=0.01)"
   ]
  },
  {
   "cell_type": "markdown",
   "id": "9feb96bc-cef7-449e-bd71-92cb02d1b73c",
   "metadata": {},
   "source": [
    "# Training loop"
   ]
  },
  {
   "cell_type": "code",
   "execution_count": null,
   "id": "f6cdb452-9e4f-4d14-8080-6eeff45e41fc",
   "metadata": {},
   "outputs": [],
   "source": [
    "num_epochs = 10000\n",
    "losses = []\n",
    "\n",
    "for epoch in range(num_epochs):\n",
    "    # Forward pass\n",
    "    outputs = model(x_tensor)\n",
    "    loss = criterion(outputs, y_tensor)\n",
    "    \n",
    "    # Backpropagation and optimization\n",
    "    optimizer.zero_grad()\n",
    "    loss.backward()\n",
    "    optimizer.step()\n",
    "    \n",
    "    losses.append(loss.item())"
   ]
  },
  {
   "cell_type": "markdown",
   "id": "bc0c9647-f8cb-4973-94a1-891fed1eeee5",
   "metadata": {},
   "source": [
    "# Plotting the original data and the fitted line"
   ]
  },
  {
   "cell_type": "code",
   "execution_count": null,
   "id": "e0219c4b-26bd-43d9-87ba-47296cc1e2b7",
   "metadata": {},
   "outputs": [],
   "source": [
    "plt.scatter(x_data, y_data, label='Original Data')\n",
    "plt.plot(x_data, model(x_tensor).detach().numpy(), label='Fitted Line', color='red')\n",
    "plt.xlabel('X')\n",
    "plt.ylabel('Y')\n",
    "plt.title('Linear Regression with PyTorch')\n",
    "plt.legend()\n",
    "plt.show()"
   ]
  },
  {
   "cell_type": "code",
   "execution_count": null,
   "id": "c355dc5b-a01c-4ce9-8d08-dda6d1b51f41",
   "metadata": {},
   "outputs": [],
   "source": []
  }
 ],
 "metadata": {
  "kernelspec": {
   "display_name": "Python 3 (ipykernel)",
   "language": "python",
   "name": "python3"
  },
  "language_info": {
   "codemirror_mode": {
    "name": "ipython",
    "version": 3
   },
   "file_extension": ".py",
   "mimetype": "text/x-python",
   "name": "python",
   "nbconvert_exporter": "python",
   "pygments_lexer": "ipython3",
   "version": "3.9.6"
  }
 },
 "nbformat": 4,
 "nbformat_minor": 5
}

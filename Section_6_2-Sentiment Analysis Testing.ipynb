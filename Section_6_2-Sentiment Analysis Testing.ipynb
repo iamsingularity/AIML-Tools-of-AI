{
 "cells": [
  {
   "cell_type": "raw",
   "id": "0bdda302-c420-4cf9-b16c-2457a5c75dc7",
   "metadata": {},
   "source": []
  },
  {
   "cell_type": "code",
   "execution_count": null,
   "id": "4f564c8c-6b52-49fa-b354-c05d2574593d",
   "metadata": {
    "scrolled": true
   },
   "outputs": [],
   "source": [
    "from transformers import pipeline\n",
    "\n",
    "# Load the sentiment analysis pipeline\n",
    "sentiment_analysis = pipeline(\"sentiment-analysis\")\n",
    "\n",
    "# Sample text for sentiment analysis\n",
    "text = \"It's fun to learn about AI\"\n",
    "\n",
    "# Perform sentiment analysis\n",
    "results = sentiment_analysis(text)\n",
    "\n",
    "# Display the sentiment analysis results\n",
    "for result in results:\n",
    "    print(f\"Sentiment: {result['label']}, Score: {result['score']}\")\n"
   ]
  },
  {
   "cell_type": "markdown",
   "id": "8a45903b-b540-439c-bd2c-a843c584d07a",
   "metadata": {},
   "source": [
    "Multiple Prediction Example"
   ]
  },
  {
   "cell_type": "code",
   "execution_count": null,
   "id": "f9feb703-a445-4ef3-ad60-da6156f92311",
   "metadata": {},
   "outputs": [],
   "source": [
    "from transformers import pipeline\n",
    "\n",
    "# Load the sentiment analysis pipeline\n",
    "sentiment_analysis = pipeline(\"sentiment-analysis\")\n",
    "\n",
    "# Sample text for sentiment analysis\n",
    "text = [\"It's fun to learn about AI\", \\\n",
    "        \"I'm tired today\", \\\n",
    "        \"What you talking about Willis?\",\\\n",
    "        \"This is awesome\"]\n",
    "\n",
    "# Perform sentiment analysis\n",
    "results = sentiment_analysis(text)\n",
    "\n",
    "# Display the sentiment analysis results\n",
    "for result in results:\n",
    "    print(f\"Sentiment: {result['label']}, Score: {result['score']}\")"
   ]
  },
  {
   "cell_type": "code",
   "execution_count": null,
   "id": "bf9657c2-2e32-4d9b-a01a-91b68d9616ae",
   "metadata": {},
   "outputs": [],
   "source": []
  },
  {
   "cell_type": "code",
   "execution_count": 6,
   "id": "39d892fc-0f1b-4e60-b2bb-22bdaa7928a5",
   "metadata": {},
   "outputs": [
    {
     "name": "stdout",
     "output_type": "stream",
     "text": [
      "Label: disappointment, Score: 0.4666951298713684\n",
      "\n",
      "Label: sadness, Score: 0.3984949588775635\n",
      "\n",
      "Label: annoyance, Score: 0.06806593388319016\n",
      "\n",
      "Label: neutral, Score: 0.05703021585941315\n",
      "\n",
      "Label: disapproval, Score: 0.044239338487386703\n",
      "\n",
      "Label: nervousness, Score: 0.014850731007754803\n",
      "\n",
      "Label: realization, Score: 0.014059904962778091\n",
      "\n",
      "Label: approval, Score: 0.0112674655392766\n",
      "\n",
      "Label: joy, Score: 0.0063033876940608025\n",
      "\n",
      "Label: remorse, Score: 0.006221496034413576\n",
      "\n",
      "Label: caring, Score: 0.006029400508850813\n",
      "\n",
      "Label: embarrassment, Score: 0.005265488289296627\n",
      "\n",
      "Label: anger, Score: 0.00498143071308732\n",
      "\n",
      "Label: disgust, Score: 0.004259031731635332\n",
      "\n",
      "Label: grief, Score: 0.004002134781330824\n",
      "\n",
      "Label: confusion, Score: 0.0033829198218882084\n",
      "\n",
      "Label: relief, Score: 0.003140497487038374\n",
      "\n",
      "Label: desire, Score: 0.0028274671640247107\n",
      "\n",
      "Label: admiration, Score: 0.002815796062350273\n",
      "\n",
      "Label: fear, Score: 0.002707524225115776\n",
      "\n",
      "Label: optimism, Score: 0.0026164900045841932\n",
      "\n",
      "Label: love, Score: 0.0024883933365345\n",
      "\n",
      "Label: excitement, Score: 0.002449477557092905\n",
      "\n",
      "Label: curiosity, Score: 0.0023743617348372936\n",
      "\n",
      "Label: amusement, Score: 0.0017466946737840772\n",
      "\n",
      "Label: surprise, Score: 0.0014529851032420993\n",
      "\n",
      "Label: gratitude, Score: 0.0006464764592237771\n",
      "\n",
      "Label: pride, Score: 0.0005542495055124164\n",
      "\n"
     ]
    }
   ],
   "source": [
    "from transformers import pipeline\n",
    "\n",
    "classifier = pipeline(task=\"text-classification\", model=\"SamLowe/roberta-base-go_emotions\", top_k=None)\n",
    "\n",
    "sentences = [\"I am not having a great day\"]\n",
    "\n",
    "model_outputs = classifier(sentences)\n",
    "\n",
    "# Print each output on a new line with a carriage return after each line\n",
    "for output in model_outputs[0]:\n",
    "    print(f\"Label: {output['label']}, Score: {output['score']}\\n\")\n"
   ]
  },
  {
   "cell_type": "code",
   "execution_count": null,
   "id": "fc2a2dd8-54d7-4996-bee1-00b8af22c0f6",
   "metadata": {},
   "outputs": [],
   "source": []
  }
 ],
 "metadata": {
  "kernelspec": {
   "display_name": "Python 3 (ipykernel)",
   "language": "python",
   "name": "python3"
  },
  "language_info": {
   "codemirror_mode": {
    "name": "ipython",
    "version": 3
   },
   "file_extension": ".py",
   "mimetype": "text/x-python",
   "name": "python",
   "nbconvert_exporter": "python",
   "pygments_lexer": "ipython3",
   "version": "3.9.6"
  }
 },
 "nbformat": 4,
 "nbformat_minor": 5
}

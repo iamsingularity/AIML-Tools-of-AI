{
 "cells": [
  {
   "cell_type": "code",
   "execution_count": 1,
   "id": "66b5106b-9684-469c-908e-0fd4ea7b5ab9",
   "metadata": {},
   "outputs": [
    {
     "name": "stdout",
     "output_type": "stream",
     "text": [
      "hello world\n"
     ]
    }
   ],
   "source": [
    "print('hello world')"
   ]
  },
  {
   "cell_type": "markdown",
   "id": "d53a7822-cd3a-469c-8bc4-a9c94a229158",
   "metadata": {},
   "source": [
    "This is a test cell to practice with Jupyter Notebook"
   ]
  },
  {
   "cell_type": "code",
   "execution_count": null,
   "id": "834daedc-cd63-48e9-9ba6-e581872b38e7",
   "metadata": {},
   "outputs": [],
   "source": []
  },
  {
   "cell_type": "raw",
   "id": "ae31ebf5-70fd-4215-a5c1-e543646ef833",
   "metadata": {},
   "source": [
    "Notes about the next section"
   ]
  },
  {
   "cell_type": "code",
   "execution_count": null,
   "id": "ada57d47-376d-4576-8ccb-df2cf772cbd2",
   "metadata": {},
   "outputs": [],
   "source": []
  },
  {
   "cell_type": "raw",
   "id": "66b05e8d-c014-4868-b979-dea0ee1cd395",
   "metadata": {},
   "source": [
    "Notes about the next section"
   ]
  },
  {
   "cell_type": "code",
   "execution_count": null,
   "id": "018557f8-7d91-42c2-80db-c01303c4446d",
   "metadata": {},
   "outputs": [],
   "source": []
  },
  {
   "cell_type": "raw",
   "id": "c3d04945-42a3-4658-9865-1a76501c785f",
   "metadata": {},
   "source": [
    "Notes about the next section"
   ]
  },
  {
   "cell_type": "code",
   "execution_count": null,
   "id": "237a7833-ef25-4441-a1f6-0b753b75a2ae",
   "metadata": {},
   "outputs": [],
   "source": []
  },
  {
   "cell_type": "raw",
   "id": "0bc5b511-c492-4fcd-960e-2aeeb2ad0e0f",
   "metadata": {},
   "source": []
  }
 ],
 "metadata": {
  "kernelspec": {
   "display_name": "Python 3 (ipykernel)",
   "language": "python",
   "name": "python3"
  },
  "language_info": {
   "codemirror_mode": {
    "name": "ipython",
    "version": 3
   },
   "file_extension": ".py",
   "mimetype": "text/x-python",
   "name": "python",
   "nbconvert_exporter": "python",
   "pygments_lexer": "ipython3",
   "version": "3.9.6"
  }
 },
 "nbformat": 4,
 "nbformat_minor": 5
}

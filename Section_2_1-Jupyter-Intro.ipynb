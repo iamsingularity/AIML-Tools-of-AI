{
 "cells": [
  {
   "cell_type": "code",
   "execution_count": null,
   "id": "e3b7c788-bd7f-464a-8038-8dd622bc74ad",
   "metadata": {},
   "outputs": [],
   "source": [
    "print(\"Hello, World!\")"
   ]
  },
  {
   "cell_type": "markdown",
   "id": "8b794932-47b3-43d8-a3b0-436e7cb2c520",
   "metadata": {},
   "source": [
    "<h1 style=“font-size:3rem;color:blue;”>Welcome to your Jupyter Notebook Tutorial</h1>​"
   ]
  },
  {
   "cell_type": "markdown",
   "id": "15c6b6ab-f21d-4098-bf0a-495ae2f3a4a5",
   "metadata": {},
   "source": [
    "<!DOCTYPE html>​\n",
    "<html lang=\"en\">​\n",
    "<head>​\n",
    "    <meta charset=\"UTF-8\">​\n",
    "    <meta name=\"viewport\" content=\"width=device-width, initial-scale=1.0\">​\n",
    "    <title>Image Display</title>​\n",
    "</head>​\n",
    "<body>​\n",
    "    <img src=\"https://www.cnet.com/a/img/resize/c7cb26e927bebaa784fb55a01e71d7fecb15d2e3/hub/2019/06/26/3f76e99d-8055-46f3-8f27-558ee276b665/20180405-ibm-q-quantum-computer-02.jpg?auto=webp&fit=crop&height=675&width=1200\" alt=\"Quantum Computer\">​\n",
    "</body>"
   ]
  },
  {
   "cell_type": "code",
   "execution_count": null,
   "id": "683ee564-d52d-41f8-9a97-20ac20ca820a",
   "metadata": {},
   "outputs": [],
   "source": []
  }
 ],
 "metadata": {
  "kernelspec": {
   "display_name": "Python 3 (ipykernel)",
   "language": "python",
   "name": "python3"
  },
  "language_info": {
   "codemirror_mode": {
    "name": "ipython",
    "version": 3
   },
   "file_extension": ".py",
   "mimetype": "text/x-python",
   "name": "python",
   "nbconvert_exporter": "python",
   "pygments_lexer": "ipython3",
   "version": "3.9.6"
  }
 },
 "nbformat": 4,
 "nbformat_minor": 5
}

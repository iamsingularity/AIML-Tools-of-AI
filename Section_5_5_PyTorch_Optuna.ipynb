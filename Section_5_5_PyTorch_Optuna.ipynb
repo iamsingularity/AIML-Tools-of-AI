{
 "cells": [
  {
   "cell_type": "code",
   "execution_count": 16,
   "id": "bc65e868-dfa8-4ac8-9b29-0379f6429572",
   "metadata": {
    "tags": []
   },
   "outputs": [
    {
     "name": "stdout",
     "output_type": "stream",
     "text": [
      "Requirement already satisfied: optuna in /usr/local/anaconda3/envs/PyTorch/lib/python3.10/site-packages (3.3.0)\n",
      "Requirement already satisfied: torchvision in /usr/local/anaconda3/envs/PyTorch/lib/python3.10/site-packages (0.15.2)\n",
      "Requirement already satisfied: alembic>=1.5.0 in /usr/local/anaconda3/envs/PyTorch/lib/python3.10/site-packages (from optuna) (1.11.3)\n",
      "Requirement already satisfied: cmaes>=0.10.0 in /usr/local/anaconda3/envs/PyTorch/lib/python3.10/site-packages (from optuna) (0.10.0)\n",
      "Requirement already satisfied: colorlog in /usr/local/anaconda3/envs/PyTorch/lib/python3.10/site-packages (from optuna) (6.7.0)\n",
      "Requirement already satisfied: numpy in /usr/local/anaconda3/envs/PyTorch/lib/python3.10/site-packages (from optuna) (1.23.5)\n",
      "Requirement already satisfied: packaging>=20.0 in /usr/local/anaconda3/envs/PyTorch/lib/python3.10/site-packages (from optuna) (23.0)\n",
      "Requirement already satisfied: sqlalchemy>=1.3.0 in /usr/local/anaconda3/envs/PyTorch/lib/python3.10/site-packages (from optuna) (2.0.20)\n",
      "Requirement already satisfied: tqdm in /usr/local/anaconda3/envs/PyTorch/lib/python3.10/site-packages (from optuna) (4.66.1)\n",
      "Requirement already satisfied: PyYAML in /usr/local/anaconda3/envs/PyTorch/lib/python3.10/site-packages (from optuna) (6.0)\n",
      "Requirement already satisfied: requests in /usr/local/anaconda3/envs/PyTorch/lib/python3.10/site-packages (from torchvision) (2.31.0)\n",
      "Requirement already satisfied: torch==2.0.1 in /usr/local/anaconda3/envs/PyTorch/lib/python3.10/site-packages (from torchvision) (2.0.1)\n",
      "Requirement already satisfied: pillow!=8.3.*,>=5.3.0 in /usr/local/anaconda3/envs/PyTorch/lib/python3.10/site-packages (from torchvision) (9.4.0)\n",
      "Requirement already satisfied: filelock in /usr/local/anaconda3/envs/PyTorch/lib/python3.10/site-packages (from torch==2.0.1->torchvision) (3.9.0)\n",
      "Requirement already satisfied: typing-extensions in /usr/local/anaconda3/envs/PyTorch/lib/python3.10/site-packages (from torch==2.0.1->torchvision) (4.7.1)\n",
      "Requirement already satisfied: sympy in /usr/local/anaconda3/envs/PyTorch/lib/python3.10/site-packages (from torch==2.0.1->torchvision) (1.11.1)\n",
      "Requirement already satisfied: networkx in /usr/local/anaconda3/envs/PyTorch/lib/python3.10/site-packages (from torch==2.0.1->torchvision) (3.1)\n",
      "Requirement already satisfied: jinja2 in /usr/local/anaconda3/envs/PyTorch/lib/python3.10/site-packages (from torch==2.0.1->torchvision) (3.1.2)\n",
      "Requirement already satisfied: Mako in /usr/local/anaconda3/envs/PyTorch/lib/python3.10/site-packages (from alembic>=1.5.0->optuna) (1.2.4)\n",
      "Requirement already satisfied: greenlet!=0.4.17 in /usr/local/anaconda3/envs/PyTorch/lib/python3.10/site-packages (from sqlalchemy>=1.3.0->optuna) (2.0.2)\n",
      "Requirement already satisfied: charset-normalizer<4,>=2 in /usr/local/anaconda3/envs/PyTorch/lib/python3.10/site-packages (from requests->torchvision) (2.0.4)\n",
      "Requirement already satisfied: idna<4,>=2.5 in /usr/local/anaconda3/envs/PyTorch/lib/python3.10/site-packages (from requests->torchvision) (3.4)\n",
      "Requirement already satisfied: urllib3<3,>=1.21.1 in /usr/local/anaconda3/envs/PyTorch/lib/python3.10/site-packages (from requests->torchvision) (1.26.16)\n",
      "Requirement already satisfied: certifi>=2017.4.17 in /usr/local/anaconda3/envs/PyTorch/lib/python3.10/site-packages (from requests->torchvision) (2023.7.22)\n",
      "Requirement already satisfied: MarkupSafe>=2.0 in /usr/local/anaconda3/envs/PyTorch/lib/python3.10/site-packages (from jinja2->torch==2.0.1->torchvision) (2.1.1)\n",
      "Requirement already satisfied: mpmath>=0.19 in /usr/local/anaconda3/envs/PyTorch/lib/python3.10/site-packages (from sympy->torch==2.0.1->torchvision) (1.3.0)\n"
     ]
    }
   ],
   "source": [
    "#Optimizing the NN structure with Pytorch and Optuna, mnist fashion example\n",
    "!pip install optuna torchvision"
   ]
  },
  {
   "cell_type": "code",
   "execution_count": 17,
   "id": "b582d3de-aee2-4080-b767-97c9baf00d63",
   "metadata": {
    "tags": []
   },
   "outputs": [],
   "source": [
    "#import the libraries\n",
    "import torchvision.transforms as transforms\n",
    "from torchvision.datasets import MNIST\n",
    "from torch.utils.data import DataLoader"
   ]
  },
  {
   "cell_type": "code",
   "execution_count": 18,
   "id": "2e81efff-ec17-49dd-b1d9-fd1ffa375288",
   "metadata": {
    "tags": []
   },
   "outputs": [],
   "source": [
    "import torch as torch\n",
    "import torch.nn as nn\n",
    "import torch.optim as optim"
   ]
  },
  {
   "cell_type": "code",
   "execution_count": 19,
   "id": "31166948-1abe-4d97-a90e-1a630f769b73",
   "metadata": {
    "tags": []
   },
   "outputs": [],
   "source": [
    "import optuna"
   ]
  },
  {
   "cell_type": "code",
   "execution_count": 20,
   "id": "0df85521-0fbd-4413-8ac6-b7fea994e6c1",
   "metadata": {
    "tags": []
   },
   "outputs": [],
   "source": [
    "#Define the PyTorch model\n",
    "class Net(nn.Module):\n",
    "    def __init__(self, n_units):\n",
    "        super(Net, self).__init__()\n",
    "        self.fc1 = nn.Linear(28*28, n_units)\n",
    "        self.fc2 = nn.Linear(n_units, 10)\n",
    "\n",
    "    def forward(self, x):\n",
    "        x = x.view(x.size(0), -1)\n",
    "        x = torch.relu(self.fc1(x))\n",
    "        x = self.fc2(x)\n",
    "        return x\n"
   ]
  },
  {
   "cell_type": "code",
   "execution_count": 21,
   "id": "6d4b34b2-90b4-4df3-bd85-ab2f47e79e68",
   "metadata": {
    "tags": []
   },
   "outputs": [],
   "source": [
    "def objective(trial):\n",
    "    # 1. Load MNIST dataset\n",
    "    transform = transforms.Compose([transforms.ToTensor()])\n",
    "    train_dataset = MNIST('.', train=True, download=True, transform=transform)\n",
    "    test_dataset = MNIST('.', train=False, transform=transform)\n",
    "    train_loader = DataLoader(train_dataset, batch_size=128, shuffle=True)\n",
    "    test_loader = DataLoader(test_dataset, batch_size=128, shuffle=False)\n",
    "\n",
    "    # 2. Define model, optimizer, and criterion\n",
    "    n_units = trial.suggest_int('n_units', 32, 512)\n",
    "    model = Net(n_units)\n",
    "    optimizer_name = trial.suggest_categorical('optimizer', ['Adam', 'SGD'])\n",
    "    lr = trial.suggest_float('lr', 1e-4, 1e-2, log=True)\n",
    "    optimizer = getattr(optim, optimizer_name)(model.parameters(), lr=lr)\n",
    "    criterion = nn.CrossEntropyLoss()\n",
    "\n",
    "    # 3. Train model\n",
    "    for epoch in range(10):\n",
    "        model.train()\n",
    "        for batch_idx, (data, target) in enumerate(train_loader):\n",
    "            optimizer.zero_grad()\n",
    "            output = model(data)\n",
    "            loss = criterion(output, target)\n",
    "            loss.backward()\n",
    "            optimizer.step()\n",
    "\n",
    "    # 4. Evaluate model\n",
    "    model.eval()\n",
    "    correct = 0\n",
    "    with torch.no_grad():\n",
    "        for batch_idx, (data, target) in enumerate(test_loader):\n",
    "            output = model(data)\n",
    "            pred = output.argmax(dim=1, keepdim=True)\n",
    "            correct += pred.eq(target.view_as(pred)).sum().item()\n",
    "\n",
    "    accuracy = correct / len(test_loader.dataset)\n",
    "    return accuracy\n"
   ]
  },
  {
   "cell_type": "code",
   "execution_count": 22,
   "id": "5059c2d2-5a95-4fa2-ba0e-cbbe92b42a5a",
   "metadata": {
    "tags": []
   },
   "outputs": [
    {
     "name": "stderr",
     "output_type": "stream",
     "text": [
      "[I 2023-08-29 16:52:59,289] A new study created in memory with name: no-name-a6f243ca-d38e-41b5-97fe-843466d4f41b\n",
      "[I 2023-08-29 16:53:48,986] Trial 0 finished with value: 0.5744 and parameters: {'n_units': 215, 'optimizer': 'SGD', 'lr': 0.00016680011139916175}. Best is trial 0 with value: 0.5744.\n",
      "[I 2023-08-29 16:54:47,464] Trial 1 finished with value: 0.9774 and parameters: {'n_units': 431, 'optimizer': 'Adam', 'lr': 0.0029859182598388767}. Best is trial 1 with value: 0.9774.\n",
      "[I 2023-08-29 16:55:46,426] Trial 2 finished with value: 0.9729 and parameters: {'n_units': 500, 'optimizer': 'Adam', 'lr': 0.00019490223729422412}. Best is trial 1 with value: 0.9774.\n",
      "[I 2023-08-29 16:56:40,313] Trial 3 finished with value: 0.977 and parameters: {'n_units': 156, 'optimizer': 'Adam', 'lr': 0.0022992921259711667}. Best is trial 1 with value: 0.9774.\n",
      "[I 2023-08-29 16:57:42,702] Trial 4 finished with value: 0.9792 and parameters: {'n_units': 372, 'optimizer': 'Adam', 'lr': 0.000451910438456066}. Best is trial 4 with value: 0.9792.\n",
      "[I 2023-08-29 16:58:38,029] Trial 5 finished with value: 0.5542 and parameters: {'n_units': 506, 'optimizer': 'SGD', 'lr': 0.00011127866314369629}. Best is trial 4 with value: 0.9792.\n",
      "[I 2023-08-29 16:59:33,804] Trial 6 finished with value: 0.9783 and parameters: {'n_units': 315, 'optimizer': 'Adam', 'lr': 0.0012390188706588993}. Best is trial 4 with value: 0.9792.\n",
      "[I 2023-08-29 17:00:27,217] Trial 7 finished with value: 0.9698 and parameters: {'n_units': 193, 'optimizer': 'Adam', 'lr': 0.00028151033929406713}. Best is trial 4 with value: 0.9792.\n",
      "[I 2023-08-29 17:01:15,692] Trial 8 finished with value: 0.9645 and parameters: {'n_units': 78, 'optimizer': 'Adam', 'lr': 0.0003716413409034464}. Best is trial 4 with value: 0.9792.\n",
      "[I 2023-08-29 17:02:07,392] Trial 9 finished with value: 0.9748 and parameters: {'n_units': 156, 'optimizer': 'Adam', 'lr': 0.0005702655745836973}. Best is trial 4 with value: 0.9792.\n"
     ]
    },
    {
     "name": "stdout",
     "output_type": "stream",
     "text": [
      "Number of finished trials:  10\n",
      "Best trial:\n",
      "Value:  0.9792\n",
      "Params: \n",
      "    n_units: 372\n",
      "    optimizer: Adam\n",
      "    lr: 0.000451910438456066\n"
     ]
    }
   ],
   "source": [
    "#Run Optuna on the model\n",
    "study = optuna.create_study(direction='maximize')\n",
    "study.optimize(objective, n_trials=10)\n",
    "\n",
    "print('Number of finished trials: ', len(study.trials))\n",
    "print('Best trial:')\n",
    "trial = study.best_trial\n",
    "print('Value: ', trial.value)\n",
    "print('Params: ')\n",
    "for key, value in trial.params.items():\n",
    "    print(f'    {key}: {value}')\n"
   ]
  },
  {
   "cell_type": "code",
   "execution_count": null,
   "id": "474d662e-4240-4bd4-a5b2-6a92b973bd29",
   "metadata": {},
   "outputs": [],
   "source": []
  },
  {
   "cell_type": "code",
   "execution_count": 31,
   "id": "c9bc37e7-4fe2-4316-93f6-681dcf595c54",
   "metadata": {
    "tags": []
   },
   "outputs": [],
   "source": [
    "# Now that we have the right parameters, we just need to apply them\n",
    "# defining the model:\n",
    "class Net(nn.Module):\n",
    "    def __init__(self, n_units):\n",
    "        super(Net, self).__init__()\n",
    "        self.fc1 = nn.Linear(28*28, n_units)\n",
    "        self.fc2 = nn.Linear(n_units, 10)\n",
    "        \n",
    "    def forward(self, x):\n",
    "        x = x.view(-1, 28*28)\n",
    "        x = torch.relu(self.fc1(x))\n",
    "        x = self.fc2(x)\n",
    "        return x\n",
    "    \n",
    "# using the parameters from Optuna:\n",
    "n_units_optimal = 372\n",
    "model = Net(n_units_optimal)"
   ]
  },
  {
   "cell_type": "code",
   "execution_count": 32,
   "id": "b8f4fe95-e700-4be8-b862-783ed8d47b42",
   "metadata": {
    "tags": []
   },
   "outputs": [],
   "source": [
    "#loading the mnist dataset\n",
    "from torchvision.datasets import FashionMNIST\n",
    "transform = transforms.Compose([transforms.ToTensor()])\n",
    "train_dataset = FashionMNIST('.', train=True, download=True, transform=transform)\n",
    "test_dataset = FashionMNIST('.', train=False, transform=transform)\n",
    "train_loader = DataLoader(train_dataset, batch_size=128, shuffle=True)\n",
    "test_loader = DataLoader(test_dataset, batch_size=128, shuffle=False)"
   ]
  },
  {
   "cell_type": "code",
   "execution_count": 33,
   "id": "9761d119-0547-4206-bbae-1f7704823e30",
   "metadata": {
    "tags": []
   },
   "outputs": [],
   "source": [
    "#Define the optimizer and loss function using the optimal parameters:\n",
    "lr_optimal = 0.000451910438456066\n",
    "optimizer = optim.Adam(model.parameters(), lr=lr_optimal)\n",
    "criterion = nn.CrossEntropyLoss()"
   ]
  },
  {
   "cell_type": "code",
   "execution_count": 34,
   "id": "5c75b39a-5cc8-419f-b4f8-08c73972f620",
   "metadata": {
    "tags": []
   },
   "outputs": [
    {
     "name": "stdout",
     "output_type": "stream",
     "text": [
      "Epoch 1/10, Accuracy: 81.65%\n",
      "Epoch 2/10, Accuracy: 84.46%\n",
      "Epoch 3/10, Accuracy: 85.86%\n",
      "Epoch 4/10, Accuracy: 86.61%\n",
      "Epoch 5/10, Accuracy: 87.13%\n",
      "Epoch 6/10, Accuracy: 86.91%\n",
      "Epoch 7/10, Accuracy: 87.07%\n",
      "Epoch 8/10, Accuracy: 87.28%\n",
      "Epoch 9/10, Accuracy: 87.58%\n",
      "Epoch 10/10, Accuracy: 88.04%\n"
     ]
    }
   ],
   "source": [
    "#Train the model\n",
    "num_epochs = 10\n",
    "for epoch in range(num_epochs):\n",
    "    model.train()\n",
    "    for batch_idx, (data, target) in enumerate(train_loader):\n",
    "        optimizer.zero_grad()\n",
    "        output = model(data)\n",
    "        loss = criterion(output, target)\n",
    "        loss.backward()\n",
    "        optimizer.step()\n",
    "\n",
    "    # Evaluate on the test set\n",
    "    model.eval()\n",
    "    correct = 0\n",
    "    with torch.no_grad():\n",
    "        for batch_idx, (data, target) in enumerate(test_loader):\n",
    "            output = model(data)\n",
    "            pred = output.argmax(dim=1, keepdim=True)\n",
    "            correct += pred.eq(target.view_as(pred)).sum().item()\n",
    "\n",
    "    accuracy = correct / len(test_loader.dataset)\n",
    "    print(f\"Epoch {epoch+1}/{num_epochs}, Accuracy: {accuracy*100:.2f}%\")"
   ]
  },
  {
   "cell_type": "code",
   "execution_count": null,
   "id": "028ecb7c-ba71-4e75-8145-e65f118c89ff",
   "metadata": {},
   "outputs": [],
   "source": []
  },
  {
   "cell_type": "code",
   "execution_count": null,
   "id": "0e68f95c-2473-4dbd-b46a-cbd23d8230c4",
   "metadata": {},
   "outputs": [],
   "source": []
  },
  {
   "cell_type": "code",
   "execution_count": 35,
   "id": "1a994507-2fa2-45ef-bca2-847aaeac8de1",
   "metadata": {
    "tags": []
   },
   "outputs": [],
   "source": [
    "#Exporting the model \n",
    "# First, let's convert the model to a script\n",
    "scripted_model = torch.jit.script(model)"
   ]
  },
  {
   "cell_type": "code",
   "execution_count": 36,
   "id": "c070a10e-f71f-4535-9e95-79c84cf4dfd5",
   "metadata": {
    "tags": []
   },
   "outputs": [],
   "source": [
    "#Then, let's export it\n",
    "torch.jit.save(scripted_model, \"PTmodel.pt\")"
   ]
  },
  {
   "cell_type": "code",
   "execution_count": 39,
   "id": "42f1f276-8239-46b3-ac95-9abb26626c00",
   "metadata": {
    "tags": []
   },
   "outputs": [],
   "source": [
    "#The model can then be loaded and run with:\n",
    "loaded_model = torch.jit.load(\"PTmodel.pt\")\n",
    "output = loaded_model(input_data) # where input_data is the inference source data"
   ]
  },
  {
   "cell_type": "code",
   "execution_count": null,
   "id": "815c1d30-cd10-425a-aba2-616b5dbfe8d0",
   "metadata": {},
   "outputs": [],
   "source": []
  },
  {
   "cell_type": "code",
   "execution_count": null,
   "id": "e2692c4b-0263-4b26-894f-47bd6386cb1b",
   "metadata": {
    "tags": []
   },
   "outputs": [],
   "source": []
  },
  {
   "cell_type": "code",
   "execution_count": null,
   "id": "481f2c96-02ab-4964-9457-64bd035348d5",
   "metadata": {},
   "outputs": [],
   "source": []
  },
  {
   "cell_type": "code",
   "execution_count": null,
   "id": "3170d144-b3ef-4e56-ad9c-8b8752020234",
   "metadata": {},
   "outputs": [],
   "source": []
  }
 ],
 "metadata": {
  "kernelspec": {
   "display_name": "Python 3 (ipykernel)",
   "language": "python",
   "name": "python3"
  },
  "language_info": {
   "codemirror_mode": {
    "name": "ipython",
    "version": 3
   },
   "file_extension": ".py",
   "mimetype": "text/x-python",
   "name": "python",
   "nbconvert_exporter": "python",
   "pygments_lexer": "ipython3",
   "version": "3.10.12"
  }
 },
 "nbformat": 4,
 "nbformat_minor": 5
}
